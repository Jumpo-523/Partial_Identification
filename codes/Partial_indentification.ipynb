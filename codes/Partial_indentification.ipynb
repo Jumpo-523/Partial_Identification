{
 "cells": [
  {
   "cell_type": "code",
   "execution_count": 3,
   "metadata": {},
   "outputs": [],
   "source": [
    "import numpy as np\n",
    "import seaborn as sns\n",
    "import pandas as pd"
   ]
  },
  {
   "cell_type": "code",
   "execution_count": 19,
   "metadata": {},
   "outputs": [],
   "source": [
    "residuals = np.random.normal(size=(100))\n",
    "x = np.arange(0, 10,0.1)\n",
    "y = x*2 + residuals"
   ]
  },
  {
   "cell_type": "code",
   "execution_count": null,
   "metadata": {},
   "outputs": [],
   "source": [
    "sns.pointplot(x=x, y=y)"
   ]
  },
  {
   "cell_type": "code",
   "execution_count": 4,
   "metadata": {},
   "outputs": [],
   "source": [
    "df = pd.read_csv(\"../data/train.csv\", low_memory=False)"
   ]
  },
  {
   "cell_type": "code",
   "execution_count": 7,
   "metadata": {},
   "outputs": [],
   "source": [
    "class BasePI():\n",
    "    \"\"\"Base class of partial identification.\"\"\"\n",
    "    def __init__(self, y_name, z_name, df:pd.DataFrame):\n",
    "        self.y_name = y_name\n",
    "        self.z_name = z_name\n",
    "        self.df = df\n",
    "\n",
    "        self.max_y = self.df[self.y_name].max()\n",
    "        self.min_y = self.df[self.y_name].min()\n",
    "\n",
    "    def naive_est(self, z_name):\n",
    "        \"\"\"Simplest estimation of causal impacts\n",
    "        \n",
    "        \"\"\"\n",
    "        for v in self.__dict__.keys():\n",
    "            if v  not in self.df.columns:\n",
    "                raise Exception(\"target or treatment variable is not included in DataFrame\")\n",
    "                \n",
    "        # CODE HERE\n",
    "        return self.bound_ate()\n",
    "    \n",
    "    def bound_ate(self):\n",
    "        \"\"\"calculate min of E[y(1)] - max of E[y(0)] < E[y(1) - y(0)] < max of E[y(1)] - min of E[y(0)] \"\"\"\n",
    "        lb_0, ub_0, lb_1, ub_1 =  self.y_of_z(0), self.y_of_z(1)\n",
    "        lb_effect = lb_1 - ub_0\n",
    "        ub_effect = ub_1 - lb_0\n",
    "        return [lb_effect, ub_effect]\n",
    "        \n",
    "    def y_of_z(self, t):\n",
    "        \"\"\"min of E[y(z=t)] < E[y(z=t)] < max E[y(z=t)] \n",
    "        \n",
    "        This code does'nt work. getitem() could not take an argument like \"not t\"  \n",
    "        \"\"\"\n",
    "        # min of E[y(z=t)]\n",
    "        l_bound = self.conditional_mean(t)*self.prob_z[t] + self.min_y*self.prob_z[not t]\n",
    "        u_bound = self.conditional_mean(t)*self.prob_z[t] + self.max_y*self.prob_z[not t]\n",
    "        return [l_bound, u_bound]\n",
    "    @property\n",
    "    def prob_z(self):\n",
    "        \"\"\"probability distribution of discrete variable z\n",
    "        return: dict whose key is z value and value is prob.\n",
    "        \"\"\"\n",
    "        total_count = self.df.shape[0]\n",
    "        hist_series = self.df[self.z_name].value_counts() / total_count\n",
    "        # pd Series to dict\n",
    "        return hist_series.to_dict()\n",
    "    def conditional_mean(self, z):\n",
    "        return self.df.loc[self.df[self.z_name] == z, self.y_name].mean()"
   ]
  },
  {
   "cell_type": "markdown",
   "metadata": {},
   "source": [
    "設計ミスった。\n",
    "\n",
    "$E[y(t)|z]$の計算をFactual, CounterFactualでそれぞれ分離させておくべきだった。\n",
    "\n",
    "後半で、単調増加関数の仮定・凹関数の仮定などで計算しやすくさせられる。"
   ]
  },
  {
   "cell_type": "code",
   "execution_count": 8,
   "metadata": {},
   "outputs": [],
   "source": [
    "pi = BasePI(\"Sales\", \"Promo\", df)"
   ]
  },
  {
   "cell_type": "code",
   "execution_count": 11,
   "metadata": {},
   "outputs": [
    {
     "data": {
      "text/plain": [
       "([2725.078461751715, 18577.38814442263],\n",
       " [3048.7405105538783, 28747.430827882963])"
      ]
     },
     "execution_count": 11,
     "metadata": {},
     "output_type": "execute_result"
    }
   ],
   "source": [
    "pi.y_of_z(0), pi.y_of_z(1)"
   ]
  },
  {
   "cell_type": "code",
   "execution_count": 52,
   "metadata": {},
   "outputs": [],
   "source": [
    "# df.groupby(\"Promo\").mean()\n",
    "test = df[\"Promo\"].value_counts() /df.shape[0]\n",
    "# df.shape"
   ]
  },
  {
   "cell_type": "code",
   "execution_count": 54,
   "metadata": {},
   "outputs": [
    {
     "data": {
      "text/plain": [
       "{0: 0.6184854833175877, 1: 0.3815145166824124}"
      ]
     },
     "execution_count": 54,
     "metadata": {},
     "output_type": "execute_result"
    }
   ],
   "source": [
    "test.to_dict()"
   ]
  },
  {
   "cell_type": "markdown",
   "metadata": {},
   "source": [
    "P[y(t)]をバウンド推定する。"
   ]
  },
  {
   "cell_type": "code",
   "execution_count": 6,
   "metadata": {},
   "outputs": [],
   "source": [
    "class PdfPI(BasePI):\n",
    "    def __init__(*args):\n",
    "        super().__init__(*args)\n"
   ]
  },
  {
   "cell_type": "code",
   "execution_count": null,
   "metadata": {},
   "outputs": [],
   "source": []
  }
 ],
 "metadata": {
  "kernelspec": {
   "display_name": "Python 3",
   "language": "python",
   "name": "python3"
  },
  "language_info": {
   "codemirror_mode": {
    "name": "ipython",
    "version": 3
   },
   "file_extension": ".py",
   "mimetype": "text/x-python",
   "name": "python",
   "nbconvert_exporter": "python",
   "pygments_lexer": "ipython3",
   "version": "3.7.4"
  }
 },
 "nbformat": 4,
 "nbformat_minor": 2
}
