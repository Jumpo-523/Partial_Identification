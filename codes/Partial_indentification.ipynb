{
 "cells": [
  {
   "cell_type": "code",
   "execution_count": 3,
   "metadata": {},
   "outputs": [],
   "source": [
    "import numpy as np\n",
    "import seaborn as sns\n",
    "import pandas as pd"
   ]
  },
  {
   "cell_type": "code",
   "execution_count": 19,
   "metadata": {},
   "outputs": [],
   "source": [
    "residuals = np.random.normal(size=(100))\n",
    "x = np.arange(0, 10,0.1)\n",
    "y = x*2 + residuals"
   ]
  },
  {
   "cell_type": "code",
   "execution_count": null,
   "metadata": {},
   "outputs": [],
   "source": [
    "sns.pointplot(x=x, y=y)"
   ]
  },
  {
   "cell_type": "code",
   "execution_count": 4,
   "metadata": {},
   "outputs": [],
   "source": [
    "df = pd.read_csv(\"../data/train.csv\", low_memory=False)"
   ]
  },
  {
   "cell_type": "code",
   "execution_count": 96,
   "metadata": {},
   "outputs": [],
   "source": [
    "class BasePI():\n",
    "    \"\"\"Base class of partial identification.\"\"\"\n",
    "    def __init__(self, y_name, z_name, df:pd.DataFrame):\n",
    "        self.y_name = y_name\n",
    "        self.z_name = z_name\n",
    "        self.df = df\n",
    "\n",
    "        self.max_y = self.df[self.y_name].max()\n",
    "        self.min_y = self.df[self.y_name].min()\n",
    "\n",
    "    def naive_est(self, z_name):\n",
    "        \"\"\"Simplest estimation of causal impacts\n",
    "        \n",
    "        \"\"\"\n",
    "        for v in self.__dict__.keys():\n",
    "            if v  not in self.df.columns:\n",
    "                raise Exception(\"target or treatment variable is not included in DataFrame\")\n",
    "                \n",
    "        # CODE HERE\n",
    "        return self.bound_ate()\n",
    "    \n",
    "    def bound_ate(self):\n",
    "        \"\"\"calculate min of E[y(1)] - max of E[y(0)] < E[y(1) - y(0)] < max of E[y(1)] - min of E[y(0)] \"\"\"\n",
    "        lb_0, ub_0, lb_1, ub_1 =  self.y_of_z(0), self.y_of_z(1)\n",
    "        lb_effect = lb_1 - ub_0\n",
    "        ub_effect = ub_1 - lb_0\n",
    "        return [lb_effect, ub_effect]\n",
    "        \n",
    "    def y_of_z(self, t):\n",
    "        \"\"\"min of E[y(z=t)] < E[y(z=t)] < max E[y(z=t)] \n",
    "        \n",
    "        This code does'nt work. getitem() could not take an argument like \"not t\"  \n",
    "        \"\"\"\n",
    "        # min　and max of E[y(t)]\n",
    "        l_bound = self.conditional_mean(t)*self.prob_z[t] + self.counterfactual(self, \"lower\")*self.prob_z[~t]\n",
    "        u_bound = self.conditional_mean(t)*self.prob_z[t] + self.counterfactual(self, \"upper\")*self.prob_z[~t]\n",
    "        return [l_bound, u_bound]\n",
    "    \n",
    "    def counterfactual(self, btype=\"upper\"):\n",
    "        \"\"\"\n",
    "        input:\n",
    "            btype: bound type. if this method is used in estimation of lower bound, then set \"lower\"\n",
    "        \"\"\"\n",
    "        # WRITE CODES\n",
    "        pass\n",
    "    \n",
    "    @property\n",
    "    def prob_z(self):\n",
    "        \"\"\"probability distribution of discrete variable z\n",
    "        return: dict whose key is z value and value is prob.\n",
    "        \"\"\"\n",
    "        total_count = self.df.shape[0]\n",
    "        hist_series = self.df[self.z_name].value_counts() / total_count\n",
    "        # pd Series to dict\n",
    "        print(hist_series.to_dict())\n",
    "        return Prob_Indexer(hist_series.to_dict())\n",
    "    \n",
    "    def conditional_mean(self, z):\n",
    "        # E[y(t)|z=t]\n",
    "        return self.df.loc[self.df[self.z_name] == z, self.y_name].mean()\n",
    "\n",
    "class Prob_Indexer(object):\n",
    "    \n",
    "    def __init__(self, prob_dict):\n",
    "        self.keys = list(prob_dict.keys())\n",
    "        self.prob_dict = prob_dict\n",
    "    def __getitem__(self, z):\n",
    "        sum_p = 0\n",
    "        print(type(z))\n",
    "        if type(z) is int:\n",
    "            print(z)\n",
    "            if z >= 0 and z in self.keys:\n",
    "                return self.prob_dict[z]\n",
    "            else: # input : ~z\n",
    "                z = abs(z) - 1\n",
    "#                 if z in self.keys\n",
    "\n",
    "                for k,v in self.prob_dict.items():\n",
    "                    if k == z:\n",
    "                        continue\n",
    "                    sum_p += v\n",
    "                return sum_p\n",
    "        else:\n",
    "            raise IndexError(f\"You couldn't get the probsability of z={z}, z didn't take the value.\")\n",
    "                    \n",
    "            "
   ]
  },
  {
   "cell_type": "markdown",
   "metadata": {},
   "source": [
    "設計ミスった。\n",
    "\n",
    "$E[y(t)|z]$の計算をFactual, CounterFactualでそれぞれ分離させておくべきだった。\n",
    "\n",
    "後半で、単調増加関数の仮定・凹関数の仮定などで計算しやすくさせられる。\n",
    "\n",
    "$E[y(t)|z]$の計算をMixinで管理する"
   ]
  },
  {
   "cell_type": "code",
   "execution_count": 92,
   "metadata": {},
   "outputs": [],
   "source": [
    "pi = BasePI(\"Sales\", \"Promo\", df)"
   ]
  },
  {
   "cell_type": "code",
   "execution_count": 93,
   "metadata": {},
   "outputs": [],
   "source": [
    "# pi.y_of_z(0), pi.y_of_z(1)"
   ]
  },
  {
   "cell_type": "code",
   "execution_count": 94,
   "metadata": {},
   "outputs": [],
   "source": [
    "# df.groupby(\"Promo\").mean()\n",
    "test = df[\"Promo\"].value_counts() /df.shape[0]\n",
    "# df.shape"
   ]
  },
  {
   "cell_type": "code",
   "execution_count": 95,
   "metadata": {},
   "outputs": [
    {
     "name": "stdout",
     "output_type": "stream",
     "text": [
      "{0: 0.6184854833175877, 1: 0.3815145166824124}\n",
      "<class 'int'>\n",
      "-1\n"
     ]
    },
    {
     "data": {
      "text/plain": [
       "0.3815145166824124"
      ]
     },
     "execution_count": 95,
     "metadata": {},
     "output_type": "execute_result"
    }
   ],
   "source": [
    "pi.prob_z[~0]\n",
    "# list(zip(*prob_dict.items()))"
   ]
  },
  {
   "cell_type": "markdown",
   "metadata": {},
   "source": [
    "P[y(t)]をバウンド推定する。"
   ]
  },
  {
   "cell_type": "code",
   "execution_count": 6,
   "metadata": {},
   "outputs": [],
   "source": [
    "class PdfPI(BasePI):\n",
    "    def __init__(*args):\n",
    "        super().__init__(*args)\n",
    "\n",
    "class PI_increasing(BasePI):\n",
    "    \"\"\"with assumption of increasing function\"\"\"\n",
    "    def y_of_z(self, t):\n",
    "        \"\"\"min of E[y(z=t)] < E[y(z=t)] < max E[y(z=t)] \n",
    "        \n",
    "        This code does'nt work. getitem() could not take an argument like \"not t\"  \n",
    "        \"\"\"\n",
    "        # min　and max of E[y(t)]\n",
    "        l_bound = self.conditional_mean(t)*self.prob_z[t] + self.min_y*self.prob_z[not t]\n",
    "        u_bound = self.conditional_mean(t)*self.prob_z[t] + self.max_y*self.prob_z[not t]\n",
    "        return [l_bound, u_bound]\n",
    "    \n"
   ]
  },
  {
   "cell_type": "code",
   "execution_count": 25,
   "metadata": {},
   "outputs": [],
   "source": [
    "o = not 2 "
   ]
  },
  {
   "cell_type": "code",
   "execution_count": 30,
   "metadata": {},
   "outputs": [
    {
     "data": {
      "text/plain": [
       "3"
      ]
     },
     "execution_count": 30,
     "metadata": {},
     "output_type": "execute_result"
    }
   ],
   "source": [
    "(1,1,2,2,2)"
   ]
  },
  {
   "cell_type": "code",
   "execution_count": 85,
   "metadata": {},
   "outputs": [
    {
     "data": {
      "text/plain": [
       "-3"
      ]
     },
     "execution_count": 85,
     "metadata": {},
     "output_type": "execute_result"
    }
   ],
   "source": []
  },
  {
   "cell_type": "code",
   "execution_count": null,
   "metadata": {},
   "outputs": [],
   "source": []
  }
 ],
 "metadata": {
  "kernelspec": {
   "display_name": "Python 3",
   "language": "python",
   "name": "python3"
  },
  "language_info": {
   "codemirror_mode": {
    "name": "ipython",
    "version": 3
   },
   "file_extension": ".py",
   "mimetype": "text/x-python",
   "name": "python",
   "nbconvert_exporter": "python",
   "pygments_lexer": "ipython3",
   "version": "3.7.4"
  }
 },
 "nbformat": 4,
 "nbformat_minor": 2
}
